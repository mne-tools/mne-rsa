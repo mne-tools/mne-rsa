{
  "cells": [
    {
      "cell_type": "markdown",
      "metadata": {},
      "source": [
        "\n# Construct a model RDM\n\nThis example shows how to create RDMs from arbitrary data. A common use case for this is\nto construct a \"model\" RDM to RSA against the brain data. In this example, we will\ncreate a RDM based on the length of the words shown during an EEG experiment.\n\n| Authors:\n| Marijn van Vliet <marijn.vanvliet@aalto.fi>\n| Stefan Appelhoff <stefan.appelhoff@mailbox.org>\n"
      ]
    },
    {
      "cell_type": "code",
      "execution_count": null,
      "metadata": {
        "collapsed": false
      },
      "outputs": [],
      "source": [
        "# Import required packages\nimport mne\nimport mne_rsa"
      ]
    },
    {
      "cell_type": "markdown",
      "metadata": {},
      "source": [
        "MNE-Python contains a built-in data loader for the kiloword dataset, which is used\nhere as an example dataset. Since we only need the words shown during the experiment,\nwhich are in the metadata, we can pass ``preload=False`` to prevent MNE-Python from\nloading the EEG data, which is a nice speed gain.\n\n"
      ]
    },
    {
      "cell_type": "code",
      "execution_count": null,
      "metadata": {
        "collapsed": false
      },
      "outputs": [],
      "source": [
        "data_path = mne.datasets.kiloword.data_path(verbose=True)\nepochs = mne.read_epochs(data_path / \"kword_metadata-epo.fif\", preload=False)\n\n# Show the metadata of 10 random epochs\nprint(epochs.metadata.sample(10))"
      ]
    },
    {
      "cell_type": "markdown",
      "metadata": {},
      "source": [
        "Now we are ready to create the \"model\" RDM, which will encode the difference in length\nbetween the words shown during the experiment.\n\n"
      ]
    },
    {
      "cell_type": "code",
      "execution_count": null,
      "metadata": {
        "collapsed": false
      },
      "outputs": [],
      "source": [
        "rdm = mne_rsa.compute_rdm(epochs.metadata.NumberOfLetters, metric=\"euclidean\")\n\n# Plot the RDM\nfig = mne_rsa.plot_rdms(rdm, title=\"Word length RDM\")\nfig.set_size_inches(3, 3)  # Make figure a little bigger to show axis properly"
      ]
    }
  ],
  "metadata": {
    "kernelspec": {
      "display_name": "Python 3",
      "language": "python",
      "name": "python3"
    },
    "language_info": {
      "codemirror_mode": {
        "name": "ipython",
        "version": 3
      },
      "file_extension": ".py",
      "mimetype": "text/x-python",
      "name": "python",
      "nbconvert_exporter": "python",
      "pygments_lexer": "ipython3",
      "version": "3.12.11"
    }
  },
  "nbformat": 4,
  "nbformat_minor": 0
}