{
  "cells": [
    {
      "cell_type": "markdown",
      "metadata": {},
      "source": [
        "\n# Compute RSA between RDMs\n\nThis example showcases the most basic version of RSA: computing the similarity between\ntwo RDMs. Then we continue with computing RSA between many RDMs efficiently.\n\n| Authors:\n| Marijn van Vliet <marijn.vanvliet@aalto.fi>\n"
      ]
    },
    {
      "cell_type": "code",
      "execution_count": null,
      "metadata": {
        "collapsed": false
      },
      "outputs": [],
      "source": [
        "# sphinx_gallery_thumbnail_number=2\n\nimport mne\nimport mne_rsa\n\n# Import required packages\nimport pandas as pd\nfrom matplotlib import pyplot as plt"
      ]
    },
    {
      "cell_type": "markdown",
      "metadata": {},
      "source": [
        "MNE-Python contains a built-in data loader for the kiloword dataset, which is used\nhere as an example dataset. Since we only need the words shown during the experiment,\nwhich are in the metadata, we can pass ``preload=False`` to prevent MNE-Python from\nloading the EEG data, which is a nice speed gain.\n\n"
      ]
    },
    {
      "cell_type": "code",
      "execution_count": null,
      "metadata": {
        "collapsed": false
      },
      "outputs": [],
      "source": [
        "data_path = mne.datasets.kiloword.data_path(verbose=True)\nepochs = mne.read_epochs(data_path / \"kword_metadata-epo.fif\")\n\n# Show the metadata of 10 random epochs\nepochs.metadata.sample(10)"
      ]
    },
    {
      "cell_type": "markdown",
      "metadata": {},
      "source": [
        "Compute RDMs based on word length and visual complexity.\n\n"
      ]
    },
    {
      "cell_type": "code",
      "execution_count": null,
      "metadata": {
        "collapsed": false
      },
      "outputs": [],
      "source": [
        "metadata = epochs.metadata\nrdm1 = mne_rsa.compute_rdm(metadata.NumberOfLetters, metric=\"euclidean\")\nrdm2 = mne_rsa.compute_rdm(metadata.VisualComplexity, metric=\"euclidean\")\n\n# Plot the RDMs\nmne_rsa.plot_rdms([rdm1, rdm2], names=[\"Word length\", \"Vis. complexity\"])"
      ]
    },
    {
      "cell_type": "markdown",
      "metadata": {},
      "source": [
        "Perform RSA between the two RDMs using Spearman correlation\n\n"
      ]
    },
    {
      "cell_type": "code",
      "execution_count": null,
      "metadata": {
        "collapsed": false
      },
      "outputs": [],
      "source": [
        "rsa_result = mne_rsa.rsa(rdm1, rdm2, metric=\"spearman\")\nprint(\"RSA score:\", rsa_result)"
      ]
    },
    {
      "cell_type": "markdown",
      "metadata": {},
      "source": [
        "We can compute RSA between multiple RDMs by passing lists to the :func:`mne_rsa.rsa`\nfunction.\n\n"
      ]
    },
    {
      "cell_type": "code",
      "execution_count": null,
      "metadata": {
        "collapsed": false
      },
      "outputs": [],
      "source": [
        "# Create RDMs for each stimulus property\ncolumns = metadata.columns[1:]  # Skip the first column: WORD\nrdms = [mne_rsa.compute_rdm(metadata[col], metric=\"euclidean\") for col in columns]\n\n# Plot the RDMs\nfig = mne_rsa.plot_rdms(rdms, names=columns, n_rows=2)\nfig.set_size_inches(12, 4)\n\n# Compute RSA between the first two RDMs (Concreteness and WordFrequency) and the\n# others.\nrsa_results = mne_rsa.rsa(rdms[:2], rdms[2:], metric=\"spearman\")\n\n# Pack the result into a Pandas DataFrame for easy viewing\nprint(pd.DataFrame(rsa_results, index=columns[:2], columns=columns[2:]))"
      ]
    },
    {
      "cell_type": "markdown",
      "metadata": {},
      "source": [
        "What if we have many RDMs? The :func:`mne_rsa.rsa` function is optimized for the case\nwhere the first parameter (the \"data\" RDMs) is a large list of RDMs and the second\nparameter (the \"model\" RDMs) is a smaller list. To save memory, you can also pass\ngenerators instead of lists.\n\nLet's create a generator that creates RDMs for each time-point in the EEG data and\ncompute the RSA between those RDMs and all the \"model\" RDMs we computed above. This is\na basic example of using a \"searchlight\" and in other examples, you can learn how to\nuse the :class:`mne_rsa.searchlight` generator to build more advanced searchlights.\nHowever, since this is such a simple case, it is educational to construct the\ngenerator manually.\n\nThe RSA computation will take some time. Therefore, we pass a few extra parameters to\n:func:`mne_rsa.rsa` to enable some improvements. First, the ``verbose=True`` enables a\nprogress bar. However, since we are using a generator, the progress bar cannot\nautomatically infer how many RDMs there will be. Hence, we provide this information\nexplicitly using the ``n_data_rdms`` parameter. Finally, depending on how many CPUs\nyou have on your system, consider increasing the ``n_jobs`` parameter to parallelize\nthe computation over multiple CPUs.\n\n"
      ]
    },
    {
      "cell_type": "code",
      "execution_count": null,
      "metadata": {
        "collapsed": false
      },
      "outputs": [],
      "source": [
        "epochs.resample(100)  # Downsample to speed things up for this example\neeg_data = epochs.get_data()\nn_trials, n_sensors, n_times = eeg_data.shape\n\n\ndef generate_eeg_rdms():\n    \"\"\"Generate RDMs for each time sample.\"\"\"\n    for i in range(n_times):\n        yield mne_rsa.compute_rdm(eeg_data[:, :, i], metric=\"correlation\")\n\n\nrsa_results = mne_rsa.rsa(\n    generate_eeg_rdms(),\n    rdms,\n    metric=\"spearman\",\n    verbose=True,\n    n_data_rdms=n_times,\n    n_jobs=1,\n)\n\n# Plot the RSA values over time using standard matplotlib commands\nplt.figure(figsize=(8, 4))\nplt.plot(epochs.times, rsa_results)\nplt.xlabel(\"time (s)\")\nplt.ylabel(\"RSA value\")\nplt.legend(columns)"
      ]
    }
  ],
  "metadata": {
    "kernelspec": {
      "display_name": "Python 3",
      "language": "python",
      "name": "python3"
    },
    "language_info": {
      "codemirror_mode": {
        "name": "ipython",
        "version": 3
      },
      "file_extension": ".py",
      "mimetype": "text/x-python",
      "name": "python",
      "nbconvert_exporter": "python",
      "pygments_lexer": "ipython3",
      "version": "3.12.11"
    }
  },
  "nbformat": 4,
  "nbformat_minor": 0
}