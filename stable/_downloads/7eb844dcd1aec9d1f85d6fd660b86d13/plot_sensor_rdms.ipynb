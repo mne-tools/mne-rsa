{
  "cells": [
    {
      "cell_type": "markdown",
      "metadata": {},
      "source": [
        "\n# Plot sensor-level RDMs\n\nThis example demonstrates how to visualize representational dissimilarity matrices\n(RDMs) computed from EEG data. We will compute them using a spatial searchlight and plot\nthe RDM computed for each searchlight-patch.\n\n| Authors:\n| Marijn van Vliet <marijn.vanvliet@aalto.fi>\n"
      ]
    },
    {
      "cell_type": "code",
      "execution_count": null,
      "metadata": {
        "collapsed": false
      },
      "outputs": [],
      "source": [
        "# Import required packages\nimport numpy as np\nimport mne\nimport mne_rsa"
      ]
    },
    {
      "cell_type": "markdown",
      "metadata": {},
      "source": [
        "MNE-Python contains a built-in data loader for the kiloword dataset. We use it here to\nread it as 960 epochs. Each epoch represents the brain response to a single word,\naveraged across all the participants. For this example, we speed up the computation,\nat a cost of temporal precision, by downsampling the data from the original 250 Hz. to\n100 Hz.\n\n"
      ]
    },
    {
      "cell_type": "code",
      "execution_count": null,
      "metadata": {
        "collapsed": false
      },
      "outputs": [],
      "source": [
        "data_path = mne.datasets.kiloword.data_path(verbose=True)\nepochs = mne.read_epochs(data_path / \"kword_metadata-epo.fif\")\nepochs = epochs.resample(100)"
      ]
    },
    {
      "cell_type": "markdown",
      "metadata": {},
      "source": [
        "We now compute RDMs using a spatial searchlight with a radius of 45 centimeters.\n\n"
      ]
    },
    {
      "cell_type": "code",
      "execution_count": null,
      "metadata": {
        "collapsed": false
      },
      "outputs": [],
      "source": [
        "# This will create a generator for the RDMs\nrdms = mne_rsa.rdm_epochs(\n    epochs,  # The EEG data\n    dist_metric=\"correlation\",  # Metric to compute the EEG RDMs\n    spatial_radius=45,  # Spatial radius of the searchlight patch\n    temporal_radius=None,  # Perform only spatial searchlight\n    tmin=0.15,\n    tmax=0.25,  # To save time, only analyze this time interval\n)\n\n# Unpack the generator into a NumPy array so we can plot it\nrdms = np.array(list(rdms))\n\n# Visualize the RDMs.\nmne_rsa.viz.plot_rdms_topo(rdms, epochs.info, cmap=\"magma\")"
      ]
    }
  ],
  "metadata": {
    "kernelspec": {
      "display_name": "Python 3",
      "language": "python",
      "name": "python3"
    },
    "language_info": {
      "codemirror_mode": {
        "name": "ipython",
        "version": 3
      },
      "file_extension": ".py",
      "mimetype": "text/x-python",
      "name": "python",
      "nbconvert_exporter": "python",
      "pygments_lexer": "ipython3",
      "version": "3.12.11"
    }
  },
  "nbformat": 4,
  "nbformat_minor": 0
}