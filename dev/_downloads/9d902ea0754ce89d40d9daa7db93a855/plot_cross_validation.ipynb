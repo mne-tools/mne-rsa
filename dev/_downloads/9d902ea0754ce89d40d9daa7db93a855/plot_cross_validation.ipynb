{
  "cells": [
    {
      "cell_type": "markdown",
      "metadata": {},
      "source": [
        "\n# Using cross-validation when computing RDMs\n\nThis example demonstrates how to perform cross-validation when computing dissimilarity\nmatrices (RDMs). When the data has repeated measurements of the same stimulus type,\ncross-validation can be used to provide much more robust distance estimates between\nstimulus types. Repeated measurements can for example be actual repetitions of the same\nstimulus within the same recording, or recordings on multiple volunteers with the same\nstimuli.\n\nThe dataset will be the kiloword dataset [1]_: approximately 1,000 words were presented\nto 75 participants in a go/no-go lexical decision task while event-related potentials\n(ERPs) were recorded.\n\nThis dataset as provided does not have repeated measurements of the same stimuli. To\nillustrate cross-validation, we will treat words with the same number of letters as\nbeing repeated measurements of the same stimulus type.\n\n.. [1] Dufau, S., Grainger, J., Midgley, KJ., Holcomb, PJ (2015). A thousand words are\n       worth a picture: Snapshots of printed-word processing in an event-related\n       potential megastudy. Psychological science.\n\n| Authors:\n| Marijn van Vliet <marijn.vanvliet@aalto.fi>\n"
      ]
    },
    {
      "cell_type": "code",
      "execution_count": null,
      "metadata": {
        "collapsed": false
      },
      "outputs": [],
      "source": [
        "# Import required packages\nimport mne\nimport mne_rsa"
      ]
    },
    {
      "cell_type": "markdown",
      "metadata": {},
      "source": [
        "MNE-Python contains a built-in data loader for the kiloword dataset. We use it here to\nread it as 960 epochs. Each epoch represents the brain response to a single word,\naveraged across all the participants. For this example, we speed up the computation,\nat a cost of temporal precision, by downsampling the data from the original 250 Hz. to\n100 Hz.\n\n"
      ]
    },
    {
      "cell_type": "code",
      "execution_count": null,
      "metadata": {
        "collapsed": false
      },
      "outputs": [],
      "source": [
        "data_path = mne.datasets.kiloword.data_path(verbose=True)\nepochs = mne.read_epochs(data_path / \"kword_metadata-epo.fif\")\nepochs = epochs.resample(100)"
      ]
    },
    {
      "cell_type": "markdown",
      "metadata": {},
      "source": [
        "The ``epochs`` object contains a ``.metadata`` field that contains information about\nthe 960 words that were used in the experiment. Let's have a look at the metadata for\nthe 10 random words:\n\n"
      ]
    },
    {
      "cell_type": "code",
      "execution_count": null,
      "metadata": {
        "collapsed": false
      },
      "outputs": [],
      "source": [
        "epochs.metadata.sample(10)"
      ]
    },
    {
      "cell_type": "markdown",
      "metadata": {},
      "source": [
        "The kiloword dataset as provided does not have repeated measurements of the same\nstimuli. To illustrate cross-validation, we will treat words with the same number of\nletters as being repeated measurements of the same stimulus type.\n\nTo denote which epochs are repetitions of the same stimulus, we create a list\n``labels`` that contains a label for each epoch indicating to which stimulus it\nbelongs. Repetitions of the same stimulus need to have the same label, hence we will\nuse the ``NumberOfLetters`` field of the metadata as label.\n\n"
      ]
    },
    {
      "cell_type": "code",
      "execution_count": null,
      "metadata": {
        "collapsed": false
      },
      "outputs": [],
      "source": [
        "labels = epochs.metadata.NumberOfLetters.astype(int)"
      ]
    },
    {
      "cell_type": "markdown",
      "metadata": {},
      "source": [
        "Many high-level functions in the MNE-RSA module can take the ``y`` list as a parameter\nto enable cross-validation. Notably the functions for performing RSA and computing\nRDMs. In this example, we will restrict the analysis to computing RDMs using a\nspatio-temporal searchlight on the sensor-level data.\n\n"
      ]
    },
    {
      "cell_type": "code",
      "execution_count": null,
      "metadata": {
        "collapsed": false
      },
      "outputs": [],
      "source": [
        "rdms = mne_rsa.rdm_epochs(\n    epochs,  # The EEG data\n    labels=labels,  # Set labels to enable cross validation\n    n_folds=5,  # Number of folds to use during cross validation\n    dist_metric=\"sqeuclidean\",  # Distance metric to compute the RDMs\n    spatial_radius=0.45,  # Spatial radius of the searchlight patch in meters.\n    temporal_radius=0.05,  # Temporal radius of the searchlight path in seconds.\n    tmin=0.15,\n    tmax=0.25,\n    n_jobs=1,  # Use this to specify the number of CPU cores to use.\n)  # To save time, only analyze this time interval"
      ]
    },
    {
      "cell_type": "markdown",
      "metadata": {},
      "source": [
        "Plotting the cross-validated RDMs\n\n"
      ]
    },
    {
      "cell_type": "code",
      "execution_count": null,
      "metadata": {
        "collapsed": false
      },
      "outputs": [],
      "source": [
        "mne_rsa.plot_rdms_topo(rdms, epochs.info)"
      ]
    },
    {
      "cell_type": "markdown",
      "metadata": {},
      "source": [
        "For performance reasons, the low-level functions of MNE-RSA do not take a ``y`` list\nfor cross-validation. Instead, they require the data to be already split into folds.\nThe :func:`mne_rsa.create_folds` function can create these folds.\n\n"
      ]
    },
    {
      "cell_type": "code",
      "execution_count": null,
      "metadata": {
        "collapsed": false
      },
      "outputs": [],
      "source": [
        "X = epochs.get_data()\ny = epochs.metadata.NumberOfLetters.astype(int)\nfolds = mne_rsa.create_folds(X, y, n_folds=5)\n\nrdm = mne_rsa.compute_rdm_cv(folds, metric=\"euclidean\")\nmne_rsa.plot_rdms(rdm)"
      ]
    }
  ],
  "metadata": {
    "kernelspec": {
      "display_name": "Python 3",
      "language": "python",
      "name": "python3"
    },
    "language_info": {
      "codemirror_mode": {
        "name": "ipython",
        "version": 3
      },
      "file_extension": ".py",
      "mimetype": "text/x-python",
      "name": "python",
      "nbconvert_exporter": "python",
      "pygments_lexer": "ipython3",
      "version": "3.12.11"
    }
  },
  "nbformat": 4,
  "nbformat_minor": 0
}